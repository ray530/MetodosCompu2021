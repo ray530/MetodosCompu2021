{
 "cells": [
  {
   "cell_type": "code",
   "execution_count": 1,
   "metadata": {},
   "outputs": [],
   "source": [
    "import numpy             as np\n",
    "import matplotlib.pyplot as plt\n",
    "from matplotlib          import rc \n",
    "from tqdm import tqdm"
   ]
  },
  {
   "cell_type": "markdown",
   "metadata": {},
   "source": [
    "Queremos calcular el segundo momento de la distribución usando el método de Montecarlo.\n",
    "$$ x \\sim exp(4) $$ \n",
    "$$ f(x) = \\frac{1}{4}e^{\\frac{-x}{4}} $$  \n",
    "$$ E(x^{2}) = \\int_{0}^{\\infty}\\frac{1}{4} x^{2} e^{\\frac{-x}{4}} dx = 32$$\n",
    "\n",
    "Hacer cambio de variable $y = \\frac{1}{1+x}$"
   ]
  },
  {
   "cell_type": "code",
   "execution_count": 2,
   "metadata": {},
   "outputs": [],
   "source": [
    "def FunctionExp(y):\n",
    "    \n",
    "    if(y.any() != 0):\n",
    "        return ( (1/y -1)**2*np.exp( -(1/y-1)/4 ) )/(4*y**2)\n",
    "    else:\n",
    "        return 0\n",
    "    \n",
    "def IntegralExacta():\n",
    "    return 32."
   ]
  },
  {
   "cell_type": "code",
   "execution_count": 3,
   "metadata": {},
   "outputs": [],
   "source": [
    "def MCIntegral(N = 100):\n",
    "    \n",
    "    x = np.random.rand(N)\n",
    "    \n",
    "    return np.average(FunctionExp(x))"
   ]
  },
  {
   "cell_type": "code",
   "execution_count": 6,
   "metadata": {},
   "outputs": [
    {
     "name": "stdout",
     "output_type": "stream",
     "text": [
      "32.26519823892494\n"
     ]
    }
   ],
   "source": [
    "Integral = MCIntegral(N = 100000)\n",
    "print(Integral)"
   ]
  },
  {
   "cell_type": "code",
   "execution_count": 7,
   "metadata": {},
   "outputs": [
    {
     "name": "stdout",
     "output_type": "stream",
     "text": [
      "[    100     372    1389    5179   19306   71968  268269 1000000]\n"
     ]
    }
   ],
   "source": [
    "n_intentos = 8\n",
    "puntos = np.int_(np.logspace(2,6,n_intentos))\n",
    "print(puntos)"
   ]
  },
  {
   "cell_type": "code",
   "execution_count": 9,
   "metadata": {},
   "outputs": [
    {
     "name": "stdout",
     "output_type": "stream",
     "text": [
      "[0.12453548 0.09556033 0.03838618 0.01856632 0.01217388 0.00822737\n",
      " 0.00539391 0.0011384 ]\n"
     ]
    }
   ],
   "source": [
    "error = np.zer(n_intentos)\n",
    "\n",
    "\n",
    "for i in range(n_intentos):\n",
    "    a = IntegralExacta()\n",
    "    b = MCIntegral(N = puntos[i])\n",
    "    error[i] = np.abs( (a-b)/a )\n",
    "    \n",
    "print(error)"
   ]
  },
  {
   "cell_type": "code",
   "execution_count": 10,
   "metadata": {},
   "outputs": [
    {
     "data": {
      "text/plain": [
       "[<matplotlib.lines.Line2D at 0x7f8cf540b510>]"
      ]
     },
     "execution_count": 10,
     "metadata": {},
     "output_type": "execute_result"
    },
    {
     "data": {
      "image/png": "[encoded data removed]",
      "text/plain": [
       "<Figure size 432x288 with 1 Axes>"
      ]
     },
     "metadata": {
      "needs_background": "light"
     },
     "output_type": "display_data"
    }
   ],
   "source": [
    "plt.plot(puntos,error)"
   ]
  },
  {
   "cell_type": "code",
   "execution_count": null,
   "metadata": {},
   "outputs": [],
   "source": []
  }
 ],
 "metadata": {
  "kernelspec": {
   "display_name": "Python 3",
   "language": "python",
   "name": "python3"
  },
  "language_info": {
   "codemirror_mode": {
    "name": "ipython",
    "version": 2
   },
   "file_extension": ".py",
   "mimetype": "text/x-python",
   "name": "python",
   "nbconvert_exporter": "python",
   "pygments_lexer": "ipython2",
   "version": "2.7.16"
  }
 },
 "nbformat": 4,
 "nbformat_minor": 2
}
