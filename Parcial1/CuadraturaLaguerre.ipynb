{
 "cells": [
  {
   "cell_type": "code",
   "execution_count": 1,
   "metadata": {},
   "outputs": [],
   "source": [
    "import numpy as np\n",
    "import matplotlib.pyplot as plt\n",
    "from matplotlib import rc\n",
    "import sympy as sym\n",
    "from sympy.functions import exp\n",
    "import math\n",
    "from tqdm import tqdm"
   ]
  },
  {
   "cell_type": "markdown",
   "metadata": {},
   "source": [
    "# Método de Newton-Raphson "
   ]
  },
  {
   "cell_type": "markdown",
   "metadata": {},
   "source": [
    "$$ f(x) = 3x^{5}+5x^{4}-x^{3} $$"
   ]
  },
  {
   "cell_type": "code",
   "execution_count": 2,
   "metadata": {},
   "outputs": [],
   "source": [
    "def Function(x):\n",
    "    #return 3*x**5 + 5*x**4 - x**3\n",
    "    #return (2*x**4 - 2*x**3 + x**2 + 3*x - 4)\n",
    "    #return (x**3 - 4*x**2 + 2)\n",
    "    \n",
    "    #return (3*x**2-1)/2.\n",
    "    #return (5*x**3 - 3.*x)/2. \n",
    "    #return (35.*x**4 - 30.*x**2 + 3.)/8. \n",
    "    return (63*x**5 - 70*x**3 + 15*x)/8"
   ]
  },
  {
   "cell_type": "code",
   "execution_count": 3,
   "metadata": {},
   "outputs": [],
   "source": [
    "def Derivative(f,x,h):\n",
    "    d = 0.\n",
    "    \n",
    "    if(h != 0):\n",
    "        d = (f(x+h)-f(x-h))/(2.*h)\n",
    "        \n",
    "    return d"
   ]
  },
  {
   "cell_type": "code",
   "execution_count": 4,
   "metadata": {},
   "outputs": [],
   "source": [
    "xi, xf, Npoints = -1.,1.,1000\n",
    "h = (xf-xi)/float(Npoints)"
   ]
  },
  {
   "cell_type": "code",
   "execution_count": 5,
   "metadata": {},
   "outputs": [
    {
     "data": {
      "text/plain": [
       "(-1, 1)"
      ]
     },
     "execution_count": 5,
     "metadata": {},
     "output_type": "execute_result"
    },
    {
     "data": {
      "image/png": "[encoded data removed]",
      "text/plain": [
       "<Figure size 432x288 with 1 Axes>"
      ]
     },
     "metadata": {
      "needs_background": "light"
     },
     "output_type": "display_data"
    }
   ],
   "source": [
    "X = np.linspace(xi,xf,Npoints)\n",
    "Y = Function(X)\n",
    "Y1 = np.zeros(len(X))\n",
    "\n",
    "plt.plot(X,Y)\n",
    "plt.plot(X,Y1,'r--')\n",
    "#plt.xlim(-1,4)\n",
    "plt.ylim(-1,1)\n",
    "#plt.grid()"
   ]
  },
  {
   "cell_type": "code",
   "execution_count": 6,
   "metadata": {},
   "outputs": [],
   "source": [
    "def NewtonMethod(f,df,xn,error,it,precision=0.001,iterations=1000):\n",
    "    \n",
    "    h_ = 1.0e-4\n",
    "    \n",
    "    while error > precision and it < iterations:\n",
    "        \n",
    "        try:\n",
    "            \n",
    "            xn1 = xn - f(xn)/df(f,xn,h_)+1.0e-10\n",
    "            error = np.abs((xn1-xn)/xn1)        \n",
    "            \n",
    "        except ZeroDivisionError:\n",
    "            print(\"Division by Zero\")\n",
    "            \n",
    "        xn = xn1\n",
    "        it += 1\n",
    "    \n",
    "    #print(it)\n",
    "    if it == iterations:\n",
    "        return False\n",
    "    else:\n",
    "        return xn1"
   ]
  },
  {
   "cell_type": "code",
   "execution_count": 7,
   "metadata": {},
   "outputs": [
    {
     "name": "stdout",
     "output_type": "stream",
     "text": [
      "0.906179858254\n"
     ]
    }
   ],
   "source": [
    "root = NewtonMethod(Function,Derivative,1,100,0)\n",
    "print(root)"
   ]
  },
  {
   "cell_type": "code",
   "execution_count": 8,
   "metadata": {},
   "outputs": [],
   "source": [
    "def GetRoots(f,df, X, precision_=0.001, tolerancia=5):\n",
    "    \n",
    "    Roots = []\n",
    "    \n",
    "    for i in X:\n",
    "        \n",
    "        root = NewtonMethod(f,df,i,100,0,precision=precision_)\n",
    "        \n",
    "        if root != False:\n",
    "            if round(root,tolerancia) not in Roots:\n",
    "                Roots.append(round(root,tolerancia))\n",
    "            \n",
    "      \n",
    "    return Roots"
   ]
  },
  {
   "cell_type": "markdown",
   "metadata": {},
   "source": [
    "# Crear Polinomios y derivadas"
   ]
  },
  {
   "cell_type": "code",
   "execution_count": 9,
   "metadata": {},
   "outputs": [],
   "source": [
    "def CreateLaguerrePoly(n):\n",
    "    x1 = sym.Symbol('x', real=True)\n",
    "    y = sym.Symbol('y', real=True)\n",
    "    \n",
    "    y = exp(-x1)*x1**n\n",
    "    \n",
    "    poly = exp(x1)*sym.diff(y,x1,n)/( math.factorial(n) )\n",
    "    \n",
    "    return poly"
   ]
  },
  {
   "cell_type": "code",
   "execution_count": 10,
   "metadata": {},
   "outputs": [
    {
     "data": {
      "text/latex": [
       "$\\displaystyle \\frac{x^{2}}{2} - 2 x + 1$"
      ],
      "text/plain": [
       "x**2/2 - 2*x + 1"
      ]
     },
     "execution_count": 10,
     "metadata": {},
     "output_type": "execute_result"
    }
   ],
   "source": [
    "CreateLaguerrePoly(2)"
   ]
  },
  {
   "cell_type": "code",
   "execution_count": 11,
   "metadata": {},
   "outputs": [],
   "source": [
    "def GetWeight(f,xk,n):\n",
    "    return xk/( ((n+1)*(f(xk)))**2 )"
   ]
  },
  {
   "cell_type": "code",
   "execution_count": 12,
   "metadata": {},
   "outputs": [],
   "source": [
    "def Getleggauss(n):\n",
    "    \n",
    "    if n == 0 or n == 1:\n",
    "        return 0,0\n",
    "    \n",
    "    Laguerre = []\n",
    "    Laguerre_1 = []\n",
    "    Weights = []\n",
    "    \n",
    "    x = sym.Symbol('x', real=True)  \n",
    "    \n",
    "    for i in range(0,n+1):\n",
    "        \n",
    "        poly = CreateLaguerrePoly(i)\n",
    "        poly1 = CreateLaguerrePoly(i+1)\n",
    "        Laguerre.append(poly)\n",
    "        Laguerre_1.append( poly1 )\n",
    "    \n",
    "    #print(Laguerre[n],Laguerre_1[n]) \n",
    "        \n",
    "    xi = np.linspace(0.,100,2000)\n",
    "    \n",
    "    pn = sym.lambdify([x], Laguerre[n],'numpy')\n",
    "    pn1 = sym.lambdify([x], Laguerre_1[n],'numpy')\n",
    "\n",
    "    Roots = GetRoots(pn,Derivative, xi, 0.0000001,tolerancia=7)\n",
    "    Roots.sort()\n",
    "    \n",
    "    \n",
    "    for j in Roots:\n",
    "        Weights.append(round(GetWeight(pn1,j,n),7))\n",
    "        \n",
    "    Roots = np.array(Roots)\n",
    "    Weights = np.array(Weights)\n",
    "        \n",
    "    return Roots, Weights"
   ]
  },
  {
   "cell_type": "markdown",
   "metadata": {},
   "source": [
    "# Computing the integral for n=3"
   ]
  },
  {
   "cell_type": "code",
   "execution_count": 13,
   "metadata": {},
   "outputs": [
    {
     "name": "stdout",
     "output_type": "stream",
     "text": [
      "(0.4157746, 0.7110925)\n",
      "(2.2942804, 0.2785177)\n",
      "(6.2899451, 0.0103893)\n"
     ]
    }
   ],
   "source": [
    "deg = 3\n",
    "Roots, Weights = Getleggauss(deg)\n",
    "\n",
    "\n",
    "\n",
    "for i in range(deg):\n",
    "    print(Roots[i],Weights[i])"
   ]
  },
  {
   "cell_type": "markdown",
   "metadata": {},
   "source": []
  },
  {
   "cell_type": "code",
   "execution_count": 14,
   "metadata": {},
   "outputs": [],
   "source": [
    "Ie = np.pi**4/15.\n",
    "\n",
    "f = lambda x : x**3/(1-np.exp(-x))"
   ]
  },
  {
   "cell_type": "code",
   "execution_count": 15,
   "metadata": {},
   "outputs": [],
   "source": [
    "Integral = sum( Weights*f(Roots) )"
   ]
  },
  {
   "cell_type": "code",
   "execution_count": 16,
   "metadata": {},
   "outputs": [
    {
     "name": "stdout",
     "output_type": "stream",
     "text": [
      "(6.481140690585725, 6.493939402266828)\n"
     ]
    }
   ],
   "source": [
    "print(Integral, Ie)"
   ]
  },
  {
   "cell_type": "markdown",
   "metadata": {},
   "source": [
    "# Plotting for some values of n"
   ]
  },
  {
   "cell_type": "code",
   "execution_count": 17,
   "metadata": {},
   "outputs": [],
   "source": [
    "def GetIntegral(degMax):\n",
    "    \n",
    "    Ie = np.pi**4/15.\n",
    "    f = lambda x : x**3/(1-np.exp(-x))\n",
    "    \n",
    "    Error = np.array([])\n",
    "    Npoints = np.array([])\n",
    "    \n",
    "    for i in tqdm(range(2,degMax+1)):\n",
    "        \n",
    "        deg = i\n",
    "        Roots, Weights = Getleggauss(deg)\n",
    "        \n",
    "        Integral = sum( Weights*f(Roots) )\n",
    "\n",
    "        Npoints = np.append(Npoints, i) \n",
    "        Error = np.append(Error, Integral/Ie)\n",
    "    \n",
    "    return Npoints, Error"
   ]
  },
  {
   "cell_type": "code",
   "execution_count": 18,
   "metadata": {},
   "outputs": [
    {
     "name": "stderr",
     "output_type": "stream",
     "text": [
      "100%|██████████| 9/9 [00:04<00:00,  1.87it/s]\n"
     ]
    }
   ],
   "source": [
    "Npoints, Error = GetIntegral(10)"
   ]
  },
  {
   "cell_type": "code",
   "execution_count": 19,
   "metadata": {},
   "outputs": [
    {
     "name": "stdout",
     "output_type": "stream",
     "text": [
      "[0.98764817 0.99802913 1.00009237 1.0000688  0.99999884 0.99997119\n",
      " 0.99997316 0.99995361 0.99999008]\n"
     ]
    }
   ],
   "source": [
    "print(Error)"
   ]
  },
  {
   "cell_type": "code",
   "execution_count": 20,
   "metadata": {},
   "outputs": [
    {
     "data": {
      "image/png": "[encoded data removed]",
      "text/plain": [
       "<Figure size 360x360 with 1 Axes>"
      ]
     },
     "metadata": {
      "needs_background": "light"
     },
     "output_type": "display_data"
    }
   ],
   "source": [
    "fig = plt.figure(figsize=(5,5))\n",
    "plt.plot(Npoints,Error,'bo', label='Laguerre quadrature acurracy')\n",
    "plt.xlabel(r'$n$')\n",
    "plt.ylabel(r'$\\epsilon(n)$')\n",
    "#plt.yscale('log')\n",
    "#plt.ylim(9.8e-1,1.001)\n",
    "plt.grid()\n",
    "plt.legend(loc=0)\n",
    "plt.savefig('Laguerre.pdf')\n",
    "plt.show()\n"
   ]
  },
  {
   "cell_type": "code",
   "execution_count": null,
   "metadata": {},
   "outputs": [],
   "source": []
  },
  {
   "cell_type": "code",
   "execution_count": 21,
   "metadata": {},
   "outputs": [],
   "source": [
    "def Laguerre(n):\n",
    "    x2 = sym.Symbol('x2')\n",
    "    roots = sym.Poly(sym.laguerre(n,x2)).all_roots()\n",
    "    \n",
    "    xi = [rt.evalf(10) for rt in roots]\n",
    "    wi = [rt/( ((n+1)*sym.laguerre(n+1,rt))**2 ).evalf(10) for rt in roots]\n",
    "    \n",
    "    return xi, wi"
   ]
  },
  {
   "cell_type": "code",
   "execution_count": 22,
   "metadata": {},
   "outputs": [
    {
     "data": {
      "text/plain": [
       "([0.5857864376, 3.414213562],\n",
       " [2.914213562 - 1.457106781*sqrt(2), 0.04289321881*sqrt(2) + 0.08578643763])"
      ]
     },
     "execution_count": 22,
     "metadata": {},
     "output_type": "execute_result"
    }
   ],
   "source": [
    "Laguerre(2)"
   ]
  },
  {
   "cell_type": "code",
   "execution_count": null,
   "metadata": {},
   "outputs": [],
   "source": []
  }
 ],
 "metadata": {
  "kernelspec": {
   "display_name": "Python 3",
   "language": "python",
   "name": "python3"
  },
  "language_info": {
   "codemirror_mode": {
    "name": "ipython",
    "version": 2
   },
   "file_extension": ".py",
   "mimetype": "text/x-python",
   "name": "python",
   "nbconvert_exporter": "python",
   "pygments_lexer": "ipython2",
   "version": "2.7.16"
  }
 },
 "nbformat": 4,
 "nbformat_minor": 2
}
